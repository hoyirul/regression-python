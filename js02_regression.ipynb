{
  "cells": [
    {
      "cell_type": "markdown",
      "metadata": {
        "id": "k2e8jlWx9uew"
      },
      "source": [
        "# Jobsheet 02 - Regression\n",
        "\n",
        "Isikan identitas berikut <br>\n",
        "**Nama  : Mochammad Hairullah** <br>\n",
        "**NIM   : 2041720074** <br>\n",
        "**Kelas : TI-3H**"
      ]
    },
    {
      "cell_type": "code",
      "execution_count": null,
      "metadata": {
        "colab": {
          "base_uri": "https://localhost:8080/"
        },
        "id": "P1hluxCf9wN8",
        "outputId": "3538c49d-3f68-4206-be03-7ec7606be41d"
      },
      "outputs": [
        {
          "name": "stdout",
          "output_type": "stream",
          "text": [
            "Mounted at /content/drive\n"
          ]
        }
      ],
      "source": [
        "from google.colab import drive\n",
        "drive.mount('/content/drive')"
      ]
    },
    {
      "cell_type": "markdown",
      "metadata": {
        "id": "ayskKuqh9uez"
      },
      "source": [
        "## Tujuan\n",
        "1. Mahasiswa mampu menjelaskan konsep regresi\n",
        "2. Mahasiswa mampu menerapkan konsep regresi untuk kasus prediksi data"
      ]
    },
    {
      "cell_type": "markdown",
      "metadata": {
        "id": "WuAHdfKN9ue0"
      },
      "source": [
        "## Kegiatan Praktikum"
      ]
    },
    {
      "cell_type": "markdown",
      "metadata": {
        "id": "Lrd3LerN9ue0"
      },
      "source": [
        "Kegiatan praktikum ini membutuhkan dataset untuk diolah datanya menjadi sebuah analisis prediksi. Ikuti petunjuk dari dosen pengampu mengenai data apa saja yang boleh dipakai untuk kegiatan praktikum kali ini. Data yang ditampilkan pada jobsheet hanya sebuah contoh, mahasiswa harus mencari data sendiri dan memastikan data yang diperoleh tersebut sesuai dengan kasus yang dapat diselesaikan dengan regresi."
      ]
    },
    {
      "cell_type": "markdown",
      "metadata": {
        "id": "fu3csHuy9ue1"
      },
      "source": [
        "### Persiapan Data"
      ]
    },
    {
      "cell_type": "code",
      "execution_count": null,
      "metadata": {
        "id": "38HDS0tx9ue1"
      },
      "outputs": [],
      "source": [
        "# import package\n",
        "import numpy as np\n",
        "import pandas as pd"
      ]
    },
    {
      "cell_type": "code",
      "execution_count": null,
      "metadata": {
        "colab": {
          "base_uri": "https://localhost:8080/",
          "height": 206
        },
        "id": "Rq1M6mvi9ue2",
        "outputId": "feecb1d1-53e2-4dd2-85a7-3067cb54d697"
      },
      "outputs": [
        {
          "data": {
            "text/html": [
              "\n",
              "  <div id=\"df-55cdd999-0893-4b37-a094-93367b874fc7\">\n",
              "    <div class=\"colab-df-container\">\n",
              "      <div>\n",
              "<style scoped>\n",
              "    .dataframe tbody tr th:only-of-type {\n",
              "        vertical-align: middle;\n",
              "    }\n",
              "\n",
              "    .dataframe tbody tr th {\n",
              "        vertical-align: top;\n",
              "    }\n",
              "\n",
              "    .dataframe thead th {\n",
              "        text-align: right;\n",
              "    }\n",
              "</style>\n",
              "<table border=\"1\" class=\"dataframe\">\n",
              "  <thead>\n",
              "    <tr style=\"text-align: right;\">\n",
              "      <th></th>\n",
              "      <th>id</th>\n",
              "      <th>user_id</th>\n",
              "      <th>tanggal</th>\n",
              "      <th>permintaan</th>\n",
              "      <th>ketersediaan</th>\n",
              "      <th>harga</th>\n",
              "      <th>berita</th>\n",
              "      <th>created_at</th>\n",
              "      <th>updated_at</th>\n",
              "    </tr>\n",
              "  </thead>\n",
              "  <tbody>\n",
              "    <tr>\n",
              "      <th>0</th>\n",
              "      <td>1</td>\n",
              "      <td>2</td>\n",
              "      <td>8/1/2021</td>\n",
              "      <td>5082</td>\n",
              "      <td>2621</td>\n",
              "      <td>26500</td>\n",
              "      <td>Naik</td>\n",
              "      <td>2022-07-13</td>\n",
              "      <td>2022-07-13</td>\n",
              "    </tr>\n",
              "    <tr>\n",
              "      <th>1</th>\n",
              "      <td>2</td>\n",
              "      <td>2</td>\n",
              "      <td>8/2/2021</td>\n",
              "      <td>1804</td>\n",
              "      <td>8280</td>\n",
              "      <td>27150</td>\n",
              "      <td>Turun</td>\n",
              "      <td>2022-07-13</td>\n",
              "      <td>2022-07-13</td>\n",
              "    </tr>\n",
              "    <tr>\n",
              "      <th>2</th>\n",
              "      <td>3</td>\n",
              "      <td>2</td>\n",
              "      <td>8/3/2021</td>\n",
              "      <td>8464</td>\n",
              "      <td>4266</td>\n",
              "      <td>27150</td>\n",
              "      <td>Turun</td>\n",
              "      <td>2022-07-13</td>\n",
              "      <td>2022-07-13</td>\n",
              "    </tr>\n",
              "    <tr>\n",
              "      <th>3</th>\n",
              "      <td>4</td>\n",
              "      <td>2</td>\n",
              "      <td>8/4/2021</td>\n",
              "      <td>5827</td>\n",
              "      <td>5112</td>\n",
              "      <td>27650</td>\n",
              "      <td>Tetap</td>\n",
              "      <td>2022-07-13</td>\n",
              "      <td>2022-07-13</td>\n",
              "    </tr>\n",
              "    <tr>\n",
              "      <th>4</th>\n",
              "      <td>5</td>\n",
              "      <td>2</td>\n",
              "      <td>8/5/2021</td>\n",
              "      <td>5870</td>\n",
              "      <td>5499</td>\n",
              "      <td>26400</td>\n",
              "      <td>Naik</td>\n",
              "      <td>2022-07-13</td>\n",
              "      <td>2022-07-13</td>\n",
              "    </tr>\n",
              "  </tbody>\n",
              "</table>\n",
              "</div>\n",
              "      <button class=\"colab-df-convert\" onclick=\"convertToInteractive('df-55cdd999-0893-4b37-a094-93367b874fc7')\"\n",
              "              title=\"Convert this dataframe to an interactive table.\"\n",
              "              style=\"display:none;\">\n",
              "        \n",
              "  <svg xmlns=\"http://www.w3.org/2000/svg\" height=\"24px\"viewBox=\"0 0 24 24\"\n",
              "       width=\"24px\">\n",
              "    <path d=\"M0 0h24v24H0V0z\" fill=\"none\"/>\n",
              "    <path d=\"M18.56 5.44l.94 2.06.94-2.06 2.06-.94-2.06-.94-.94-2.06-.94 2.06-2.06.94zm-11 1L8.5 8.5l.94-2.06 2.06-.94-2.06-.94L8.5 2.5l-.94 2.06-2.06.94zm10 10l.94 2.06.94-2.06 2.06-.94-2.06-.94-.94-2.06-.94 2.06-2.06.94z\"/><path d=\"M17.41 7.96l-1.37-1.37c-.4-.4-.92-.59-1.43-.59-.52 0-1.04.2-1.43.59L10.3 9.45l-7.72 7.72c-.78.78-.78 2.05 0 2.83L4 21.41c.39.39.9.59 1.41.59.51 0 1.02-.2 1.41-.59l7.78-7.78 2.81-2.81c.8-.78.8-2.07 0-2.86zM5.41 20L4 18.59l7.72-7.72 1.47 1.35L5.41 20z\"/>\n",
              "  </svg>\n",
              "      </button>\n",
              "      \n",
              "  <style>\n",
              "    .colab-df-container {\n",
              "      display:flex;\n",
              "      flex-wrap:wrap;\n",
              "      gap: 12px;\n",
              "    }\n",
              "\n",
              "    .colab-df-convert {\n",
              "      background-color: #E8F0FE;\n",
              "      border: none;\n",
              "      border-radius: 50%;\n",
              "      cursor: pointer;\n",
              "      display: none;\n",
              "      fill: #1967D2;\n",
              "      height: 32px;\n",
              "      padding: 0 0 0 0;\n",
              "      width: 32px;\n",
              "    }\n",
              "\n",
              "    .colab-df-convert:hover {\n",
              "      background-color: #E2EBFA;\n",
              "      box-shadow: 0px 1px 2px rgba(60, 64, 67, 0.3), 0px 1px 3px 1px rgba(60, 64, 67, 0.15);\n",
              "      fill: #174EA6;\n",
              "    }\n",
              "\n",
              "    [theme=dark] .colab-df-convert {\n",
              "      background-color: #3B4455;\n",
              "      fill: #D2E3FC;\n",
              "    }\n",
              "\n",
              "    [theme=dark] .colab-df-convert:hover {\n",
              "      background-color: #434B5C;\n",
              "      box-shadow: 0px 1px 3px 1px rgba(0, 0, 0, 0.15);\n",
              "      filter: drop-shadow(0px 1px 2px rgba(0, 0, 0, 0.3));\n",
              "      fill: #FFFFFF;\n",
              "    }\n",
              "  </style>\n",
              "\n",
              "      <script>\n",
              "        const buttonEl =\n",
              "          document.querySelector('#df-55cdd999-0893-4b37-a094-93367b874fc7 button.colab-df-convert');\n",
              "        buttonEl.style.display =\n",
              "          google.colab.kernel.accessAllowed ? 'block' : 'none';\n",
              "\n",
              "        async function convertToInteractive(key) {\n",
              "          const element = document.querySelector('#df-55cdd999-0893-4b37-a094-93367b874fc7');\n",
              "          const dataTable =\n",
              "            await google.colab.kernel.invokeFunction('convertToInteractive',\n",
              "                                                     [key], {});\n",
              "          if (!dataTable) return;\n",
              "\n",
              "          const docLinkHtml = 'Like what you see? Visit the ' +\n",
              "            '<a target=\"_blank\" href=https://colab.research.google.com/notebooks/data_table.ipynb>data table notebook</a>'\n",
              "            + ' to learn more about interactive tables.';\n",
              "          element.innerHTML = '';\n",
              "          dataTable['output_type'] = 'display_data';\n",
              "          await google.colab.output.renderOutput(dataTable, element);\n",
              "          const docLink = document.createElement('div');\n",
              "          docLink.innerHTML = docLinkHtml;\n",
              "          element.appendChild(docLink);\n",
              "        }\n",
              "      </script>\n",
              "    </div>\n",
              "  </div>\n",
              "  "
            ],
            "text/plain": [
              "   id  user_id   tanggal  permintaan  ketersediaan  harga berita  created_at  \\\n",
              "0   1        2  8/1/2021        5082          2621  26500   Naik  2022-07-13   \n",
              "1   2        2  8/2/2021        1804          8280  27150  Turun  2022-07-13   \n",
              "2   3        2  8/3/2021        8464          4266  27150  Turun  2022-07-13   \n",
              "3   4        2  8/4/2021        5827          5112  27650  Tetap  2022-07-13   \n",
              "4   5        2  8/5/2021        5870          5499  26400   Naik  2022-07-13   \n",
              "\n",
              "   updated_at  \n",
              "0  2022-07-13  \n",
              "1  2022-07-13  \n",
              "2  2022-07-13  \n",
              "3  2022-07-13  \n",
              "4  2022-07-13  "
            ]
          },
          "execution_count": 3,
          "metadata": {},
          "output_type": "execute_result"
        }
      ],
      "source": [
        "# baca data\n",
        "path = './dataset-chilipp.csv'\n",
        "data = pd.read_csv(path)\n",
        "data = pd.DataFrame(data)\n",
        "data.head()"
      ]
    },
    {
      "cell_type": "code",
      "execution_count": null,
      "metadata": {
        "colab": {
          "base_uri": "https://localhost:8080/"
        },
        "id": "1a32MmhXr_vm",
        "outputId": "8e6a70b9-815e-429b-dfcd-f12eed636dc1"
      },
      "outputs": [
        {
          "data": {
            "text/plain": [
              "id               int64\n",
              "user_id          int64\n",
              "tanggal         object\n",
              "permintaan       int64\n",
              "ketersediaan     int64\n",
              "harga            int64\n",
              "berita          object\n",
              "created_at      object\n",
              "updated_at      object\n",
              "dtype: object"
            ]
          },
          "execution_count": 414,
          "metadata": {},
          "output_type": "execute_result"
        }
      ],
      "source": [
        "# data['berita'] = data['berita'].astype(str).astype(float)\n",
        "data.dtypes\n",
        "\n",
        "# data['berita'] = pd.factorize(data['berita'])[0] + 1"
      ]
    },
    {
      "cell_type": "code",
      "execution_count": null,
      "metadata": {
        "colab": {
          "base_uri": "https://localhost:8080/",
          "height": 586
        },
        "id": "WOTLkTLf9ue3",
        "outputId": "90479469-b172-4d69-d5b2-37bd5e31f33a"
      },
      "outputs": [
        {
          "name": "stdout",
          "output_type": "stream",
          "text": [
            "<class 'pandas.core.frame.DataFrame'>\n",
            "RangeIndex: 273 entries, 0 to 272\n",
            "Data columns (total 9 columns):\n",
            " #   Column        Non-Null Count  Dtype \n",
            "---  ------        --------------  ----- \n",
            " 0   id            273 non-null    int64 \n",
            " 1   user_id       273 non-null    int64 \n",
            " 2   tanggal       273 non-null    object\n",
            " 3   permintaan    273 non-null    int64 \n",
            " 4   ketersediaan  273 non-null    int64 \n",
            " 5   harga         273 non-null    int64 \n",
            " 6   berita        273 non-null    object\n",
            " 7   created_at    273 non-null    object\n",
            " 8   updated_at    273 non-null    object\n",
            "dtypes: int64(5), object(4)\n",
            "memory usage: 19.3+ KB\n"
          ]
        },
        {
          "data": {
            "text/html": [
              "\n",
              "  <div id=\"df-b61271fc-5cae-434d-8cc9-81e412667b5f\">\n",
              "    <div class=\"colab-df-container\">\n",
              "      <div>\n",
              "<style scoped>\n",
              "    .dataframe tbody tr th:only-of-type {\n",
              "        vertical-align: middle;\n",
              "    }\n",
              "\n",
              "    .dataframe tbody tr th {\n",
              "        vertical-align: top;\n",
              "    }\n",
              "\n",
              "    .dataframe thead th {\n",
              "        text-align: right;\n",
              "    }\n",
              "</style>\n",
              "<table border=\"1\" class=\"dataframe\">\n",
              "  <thead>\n",
              "    <tr style=\"text-align: right;\">\n",
              "      <th></th>\n",
              "      <th>id</th>\n",
              "      <th>user_id</th>\n",
              "      <th>permintaan</th>\n",
              "      <th>ketersediaan</th>\n",
              "      <th>harga</th>\n",
              "    </tr>\n",
              "  </thead>\n",
              "  <tbody>\n",
              "    <tr>\n",
              "      <th>count</th>\n",
              "      <td>273.000000</td>\n",
              "      <td>273.0</td>\n",
              "      <td>273.000000</td>\n",
              "      <td>273.000000</td>\n",
              "      <td>273.000000</td>\n",
              "    </tr>\n",
              "    <tr>\n",
              "      <th>mean</th>\n",
              "      <td>137.000000</td>\n",
              "      <td>2.0</td>\n",
              "      <td>5434.553114</td>\n",
              "      <td>4829.952381</td>\n",
              "      <td>32477.655678</td>\n",
              "    </tr>\n",
              "    <tr>\n",
              "      <th>std</th>\n",
              "      <td>78.952517</td>\n",
              "      <td>0.0</td>\n",
              "      <td>2489.636856</td>\n",
              "      <td>2406.670899</td>\n",
              "      <td>13197.821609</td>\n",
              "    </tr>\n",
              "    <tr>\n",
              "      <th>min</th>\n",
              "      <td>1.000000</td>\n",
              "      <td>2.0</td>\n",
              "      <td>1043.000000</td>\n",
              "      <td>1011.000000</td>\n",
              "      <td>17000.000000</td>\n",
              "    </tr>\n",
              "    <tr>\n",
              "      <th>25%</th>\n",
              "      <td>69.000000</td>\n",
              "      <td>2.0</td>\n",
              "      <td>3197.000000</td>\n",
              "      <td>2919.000000</td>\n",
              "      <td>21100.000000</td>\n",
              "    </tr>\n",
              "    <tr>\n",
              "      <th>50%</th>\n",
              "      <td>137.000000</td>\n",
              "      <td>2.0</td>\n",
              "      <td>5458.000000</td>\n",
              "      <td>4555.000000</td>\n",
              "      <td>29300.000000</td>\n",
              "    </tr>\n",
              "    <tr>\n",
              "      <th>75%</th>\n",
              "      <td>205.000000</td>\n",
              "      <td>2.0</td>\n",
              "      <td>7595.000000</td>\n",
              "      <td>6721.000000</td>\n",
              "      <td>40150.000000</td>\n",
              "    </tr>\n",
              "    <tr>\n",
              "      <th>max</th>\n",
              "      <td>273.000000</td>\n",
              "      <td>2.0</td>\n",
              "      <td>9975.000000</td>\n",
              "      <td>9934.000000</td>\n",
              "      <td>70900.000000</td>\n",
              "    </tr>\n",
              "  </tbody>\n",
              "</table>\n",
              "</div>\n",
              "      <button class=\"colab-df-convert\" onclick=\"convertToInteractive('df-b61271fc-5cae-434d-8cc9-81e412667b5f')\"\n",
              "              title=\"Convert this dataframe to an interactive table.\"\n",
              "              style=\"display:none;\">\n",
              "        \n",
              "  <svg xmlns=\"http://www.w3.org/2000/svg\" height=\"24px\"viewBox=\"0 0 24 24\"\n",
              "       width=\"24px\">\n",
              "    <path d=\"M0 0h24v24H0V0z\" fill=\"none\"/>\n",
              "    <path d=\"M18.56 5.44l.94 2.06.94-2.06 2.06-.94-2.06-.94-.94-2.06-.94 2.06-2.06.94zm-11 1L8.5 8.5l.94-2.06 2.06-.94-2.06-.94L8.5 2.5l-.94 2.06-2.06.94zm10 10l.94 2.06.94-2.06 2.06-.94-2.06-.94-.94-2.06-.94 2.06-2.06.94z\"/><path d=\"M17.41 7.96l-1.37-1.37c-.4-.4-.92-.59-1.43-.59-.52 0-1.04.2-1.43.59L10.3 9.45l-7.72 7.72c-.78.78-.78 2.05 0 2.83L4 21.41c.39.39.9.59 1.41.59.51 0 1.02-.2 1.41-.59l7.78-7.78 2.81-2.81c.8-.78.8-2.07 0-2.86zM5.41 20L4 18.59l7.72-7.72 1.47 1.35L5.41 20z\"/>\n",
              "  </svg>\n",
              "      </button>\n",
              "      \n",
              "  <style>\n",
              "    .colab-df-container {\n",
              "      display:flex;\n",
              "      flex-wrap:wrap;\n",
              "      gap: 12px;\n",
              "    }\n",
              "\n",
              "    .colab-df-convert {\n",
              "      background-color: #E8F0FE;\n",
              "      border: none;\n",
              "      border-radius: 50%;\n",
              "      cursor: pointer;\n",
              "      display: none;\n",
              "      fill: #1967D2;\n",
              "      height: 32px;\n",
              "      padding: 0 0 0 0;\n",
              "      width: 32px;\n",
              "    }\n",
              "\n",
              "    .colab-df-convert:hover {\n",
              "      background-color: #E2EBFA;\n",
              "      box-shadow: 0px 1px 2px rgba(60, 64, 67, 0.3), 0px 1px 3px 1px rgba(60, 64, 67, 0.15);\n",
              "      fill: #174EA6;\n",
              "    }\n",
              "\n",
              "    [theme=dark] .colab-df-convert {\n",
              "      background-color: #3B4455;\n",
              "      fill: #D2E3FC;\n",
              "    }\n",
              "\n",
              "    [theme=dark] .colab-df-convert:hover {\n",
              "      background-color: #434B5C;\n",
              "      box-shadow: 0px 1px 3px 1px rgba(0, 0, 0, 0.15);\n",
              "      filter: drop-shadow(0px 1px 2px rgba(0, 0, 0, 0.3));\n",
              "      fill: #FFFFFF;\n",
              "    }\n",
              "  </style>\n",
              "\n",
              "      <script>\n",
              "        const buttonEl =\n",
              "          document.querySelector('#df-b61271fc-5cae-434d-8cc9-81e412667b5f button.colab-df-convert');\n",
              "        buttonEl.style.display =\n",
              "          google.colab.kernel.accessAllowed ? 'block' : 'none';\n",
              "\n",
              "        async function convertToInteractive(key) {\n",
              "          const element = document.querySelector('#df-b61271fc-5cae-434d-8cc9-81e412667b5f');\n",
              "          const dataTable =\n",
              "            await google.colab.kernel.invokeFunction('convertToInteractive',\n",
              "                                                     [key], {});\n",
              "          if (!dataTable) return;\n",
              "\n",
              "          const docLinkHtml = 'Like what you see? Visit the ' +\n",
              "            '<a target=\"_blank\" href=https://colab.research.google.com/notebooks/data_table.ipynb>data table notebook</a>'\n",
              "            + ' to learn more about interactive tables.';\n",
              "          element.innerHTML = '';\n",
              "          dataTable['output_type'] = 'display_data';\n",
              "          await google.colab.output.renderOutput(dataTable, element);\n",
              "          const docLink = document.createElement('div');\n",
              "          docLink.innerHTML = docLinkHtml;\n",
              "          element.appendChild(docLink);\n",
              "        }\n",
              "      </script>\n",
              "    </div>\n",
              "  </div>\n",
              "  "
            ],
            "text/plain": [
              "               id  user_id   permintaan  ketersediaan         harga\n",
              "count  273.000000    273.0   273.000000    273.000000    273.000000\n",
              "mean   137.000000      2.0  5434.553114   4829.952381  32477.655678\n",
              "std     78.952517      0.0  2489.636856   2406.670899  13197.821609\n",
              "min      1.000000      2.0  1043.000000   1011.000000  17000.000000\n",
              "25%     69.000000      2.0  3197.000000   2919.000000  21100.000000\n",
              "50%    137.000000      2.0  5458.000000   4555.000000  29300.000000\n",
              "75%    205.000000      2.0  7595.000000   6721.000000  40150.000000\n",
              "max    273.000000      2.0  9975.000000   9934.000000  70900.000000"
            ]
          },
          "execution_count": 415,
          "metadata": {},
          "output_type": "execute_result"
        }
      ],
      "source": [
        "# pemahaman terhadap data\n",
        "# ukuran data\n",
        "\n",
        "# print(data)\n",
        "\n",
        "data.shape\n",
        "\n",
        "# info data\n",
        "data.info()\n",
        "\n",
        "# deskripsi data\n",
        "data.describe()"
      ]
    },
    {
      "cell_type": "markdown",
      "metadata": {
        "id": "mBZhCvn99ue4"
      },
      "source": [
        "### Visualisasi Data"
      ]
    },
    {
      "cell_type": "code",
      "execution_count": null,
      "metadata": {
        "id": "4uSaPnQb9ue5"
      },
      "outputs": [],
      "source": [
        "# import library untuk visualisasi\n",
        "import matplotlib.pyplot as plt \n",
        "import seaborn as sns"
      ]
    },
    {
      "cell_type": "code",
      "execution_count": null,
      "metadata": {
        "id": "kAt7sm1cvC-k"
      },
      "outputs": [],
      "source": [
        "from sklearn.preprocessing import LabelEncoder\n",
        "data['tanggal'] = LabelEncoder().fit_transform(data['tanggal'])\n",
        "data['berita'] = LabelEncoder().fit_transform(data['berita'])\n",
        "# data.head(10)"
      ]
    },
    {
      "cell_type": "code",
      "execution_count": null,
      "metadata": {
        "colab": {
          "base_uri": "https://localhost:8080/",
          "height": 359
        },
        "id": "0Ma3iH7r9ue5",
        "outputId": "a4d5a5d8-f8f3-4b0f-98a7-6e497b299b97"
      },
      "outputs": [
        {
          "name": "stderr",
          "output_type": "stream",
          "text": [
            "/usr/local/lib/python3.7/dist-packages/seaborn/axisgrid.py:2076: UserWarning: The `size` parameter has been renamed to `height`; please update your code.\n",
            "  warnings.warn(msg, UserWarning)\n"
          ]
        },
        {
          "data": {
            "image/png": "[encoded data removed]",
            "text/plain": [
              "<Figure size 864x288 with 3 Axes>"
            ]
          },
          "metadata": {
            "needs_background": "light"
          },
          "output_type": "display_data"
        }
      ],
      "source": [
        "# operasi visualisasi\n",
        "sns.pairplot(data, x_vars=['tanggal', 'permintaan', 'harga'], \n",
        "             y_vars='ketersediaan', size=4, aspect=1, kind='scatter')\n",
        "plt.show()"
      ]
    },
    {
      "cell_type": "markdown",
      "metadata": {
        "id": "jQa62i3t9ue5"
      },
      "source": [
        "output di atas kurang bisa menunjukkan korelasi antar data dalam x dengan data dalam y. Salah satu solusinya adalah menggunakan heatmap"
      ]
    },
    {
      "cell_type": "code",
      "execution_count": null,
      "metadata": {
        "colab": {
          "base_uri": "https://localhost:8080/",
          "height": 324
        },
        "id": "0Ph4SpUX9ue6",
        "outputId": "680a681c-df78-4f1a-bddc-ed8c2f6b1472"
      },
      "outputs": [
        {
          "data": {
            "image/png": "[encoded data removed]",
            "text/plain": [
              "<Figure size 432x288 with 2 Axes>"
            ]
          },
          "metadata": {
            "needs_background": "light"
          },
          "output_type": "display_data"
        }
      ],
      "source": [
        "sns.heatmap(data.corr(), cmap=\"YlGnBu\", annot = True)\n",
        "plt.show()"
      ]
    },
    {
      "cell_type": "markdown",
      "metadata": {
        "id": "eiKdpnki9ue6"
      },
      "source": [
        "dari bentuk visualisasi di atas terlihat bahwa ketersediaan memiliki korelasi yang rendah terhadap Permintatan"
      ]
    },
    {
      "cell_type": "markdown",
      "metadata": {
        "id": "fjH_K_p59ue6"
      },
      "source": [
        "### Regresi Linier"
      ]
    },
    {
      "cell_type": "code",
      "execution_count": null,
      "metadata": {
        "id": "V2GJ1Iis9ue7"
      },
      "outputs": [],
      "source": [
        "# Buat variabel bebas X dan Y, sebagai contoh ambil dari hasil analisis korelasi dari kegaitan sebelumnya\n",
        "X = data['permintaan']\n",
        "y = data['ketersediaan']"
      ]
    },
    {
      "cell_type": "code",
      "execution_count": null,
      "metadata": {
        "id": "cDs98qCN9ue7"
      },
      "outputs": [],
      "source": [
        "# Buat pemisahan data uji dan data latih dengan proporsi 7:3\n",
        "from sklearn.model_selection import train_test_split\n",
        "X_train, X_test, y_train, y_test = train_test_split(X, y, train_size = 0.7, \n",
        "                                                    test_size = 0.3, random_state = 100)\n"
      ]
    },
    {
      "cell_type": "code",
      "execution_count": null,
      "metadata": {
        "colab": {
          "base_uri": "https://localhost:8080/"
        },
        "id": "ArGcmIwb9ue7",
        "outputId": "a3b02de4-a4ba-47db-d429-cd70c45ffe8a"
      },
      "outputs": [
        {
          "data": {
            "text/plain": [
              "65     3678\n",
              "98     4066\n",
              "104    5212\n",
              "48     7070\n",
              "159    3724\n",
              "       ... \n",
              "226    5935\n",
              "66     4259\n",
              "53     6746\n",
              "79     4438\n",
              "8      3336\n",
              "Name: ketersediaan, Length: 191, dtype: int64"
            ]
          },
          "execution_count": 422,
          "metadata": {},
          "output_type": "execute_result"
        }
      ],
      "source": [
        "# hasil training dtaset\n",
        "X_train\n",
        "y_train"
      ]
    },
    {
      "cell_type": "code",
      "execution_count": null,
      "metadata": {
        "colab": {
          "base_uri": "https://localhost:8080/"
        },
        "id": "1FghNkJK9ue7",
        "outputId": "c3e6a64e-9933-47ec-8d30-80dd953abaf8"
      },
      "outputs": [
        {
          "name": "stderr",
          "output_type": "stream",
          "text": [
            "/usr/local/lib/python3.7/dist-packages/statsmodels/tsa/tsatools.py:142: FutureWarning: In a future version of pandas all arguments of concat except for the argument 'objs' will be keyword-only\n",
            "  x = pd.concat(x[::order], 1)\n"
          ]
        }
      ],
      "source": [
        "# training model\n",
        "import statsmodels.api as sm\n",
        "\n",
        "X_train_sm = sm.add_constant(X_train)"
      ]
    },
    {
      "cell_type": "code",
      "execution_count": null,
      "metadata": {
        "colab": {
          "base_uri": "https://localhost:8080/"
        },
        "id": "_aSmMfUa9ue8",
        "outputId": "6357f5ec-563c-4863-c6b6-9aeda1430109"
      },
      "outputs": [
        {
          "data": {
            "text/plain": [
              "const         4524.581048\n",
              "permintaan       0.056531\n",
              "dtype: float64"
            ]
          },
          "execution_count": 424,
          "metadata": {},
          "output_type": "execute_result"
        }
      ],
      "source": [
        "# fitting garis regresi\n",
        "lr = sm.OLS(y_train, X_train_sm).fit()\n",
        "lr.params"
      ]
    },
    {
      "cell_type": "code",
      "execution_count": null,
      "metadata": {
        "colab": {
          "base_uri": "https://localhost:8080/",
          "height": 486
        },
        "id": "qdykMLTC9ue8",
        "outputId": "fad6d86d-a0b0-48fe-c8e6-4a91761e57f3"
      },
      "outputs": [
        {
          "data": {
            "text/html": [
              "<table class=\"simpletable\">\n",
              "<caption>OLS Regression Results</caption>\n",
              "<tr>\n",
              "  <th>Dep. Variable:</th>      <td>ketersediaan</td>   <th>  R-squared:         </th> <td>   0.004</td>\n",
              "</tr>\n",
              "<tr>\n",
              "  <th>Model:</th>                   <td>OLS</td>       <th>  Adj. R-squared:    </th> <td>  -0.002</td>\n",
              "</tr>\n",
              "<tr>\n",
              "  <th>Method:</th>             <td>Least Squares</td>  <th>  F-statistic:       </th> <td>  0.7093</td>\n",
              "</tr>\n",
              "<tr>\n",
              "  <th>Date:</th>             <td>Mon, 12 Sep 2022</td> <th>  Prob (F-statistic):</th>  <td> 0.401</td> \n",
              "</tr>\n",
              "<tr>\n",
              "  <th>Time:</th>                 <td>11:57:41</td>     <th>  Log-Likelihood:    </th> <td> -1751.3</td>\n",
              "</tr>\n",
              "<tr>\n",
              "  <th>No. Observations:</th>      <td>   191</td>      <th>  AIC:               </th> <td>   3507.</td>\n",
              "</tr>\n",
              "<tr>\n",
              "  <th>Df Residuals:</th>          <td>   189</td>      <th>  BIC:               </th> <td>   3513.</td>\n",
              "</tr>\n",
              "<tr>\n",
              "  <th>Df Model:</th>              <td>     1</td>      <th>                     </th>     <td> </td>   \n",
              "</tr>\n",
              "<tr>\n",
              "  <th>Covariance Type:</th>      <td>nonrobust</td>    <th>                     </th>     <td> </td>   \n",
              "</tr>\n",
              "</table>\n",
              "<table class=\"simpletable\">\n",
              "<tr>\n",
              "       <td></td>         <th>coef</th>     <th>std err</th>      <th>t</th>      <th>P>|t|</th>  <th>[0.025</th>    <th>0.975]</th>  \n",
              "</tr>\n",
              "<tr>\n",
              "  <th>const</th>      <td> 4524.5810</td> <td>  413.592</td> <td>   10.940</td> <td> 0.000</td> <td> 3708.732</td> <td> 5340.430</td>\n",
              "</tr>\n",
              "<tr>\n",
              "  <th>permintaan</th> <td>    0.0565</td> <td>    0.067</td> <td>    0.842</td> <td> 0.401</td> <td>   -0.076</td> <td>    0.189</td>\n",
              "</tr>\n",
              "</table>\n",
              "<table class=\"simpletable\">\n",
              "<tr>\n",
              "  <th>Omnibus:</th>       <td>21.270</td> <th>  Durbin-Watson:     </th> <td>   1.988</td>\n",
              "</tr>\n",
              "<tr>\n",
              "  <th>Prob(Omnibus):</th> <td> 0.000</td> <th>  Jarque-Bera (JB):  </th> <td>   7.574</td>\n",
              "</tr>\n",
              "<tr>\n",
              "  <th>Skew:</th>          <td> 0.194</td> <th>  Prob(JB):          </th> <td>  0.0227</td>\n",
              "</tr>\n",
              "<tr>\n",
              "  <th>Kurtosis:</th>      <td> 2.105</td> <th>  Cond. No.          </th> <td>1.51e+04</td>\n",
              "</tr>\n",
              "</table><br/><br/>Notes:<br/>[1] Standard Errors assume that the covariance matrix of the errors is correctly specified.<br/>[2] The condition number is large, 1.51e+04. This might indicate that there are<br/>strong multicollinearity or other numerical problems."
            ],
            "text/plain": [
              "<class 'statsmodels.iolib.summary.Summary'>\n",
              "\"\"\"\n",
              "                            OLS Regression Results                            \n",
              "==============================================================================\n",
              "Dep. Variable:           ketersediaan   R-squared:                       0.004\n",
              "Model:                            OLS   Adj. R-squared:                 -0.002\n",
              "Method:                 Least Squares   F-statistic:                    0.7093\n",
              "Date:                Mon, 12 Sep 2022   Prob (F-statistic):              0.401\n",
              "Time:                        11:57:41   Log-Likelihood:                -1751.3\n",
              "No. Observations:                 191   AIC:                             3507.\n",
              "Df Residuals:                     189   BIC:                             3513.\n",
              "Df Model:                           1                                         \n",
              "Covariance Type:            nonrobust                                         \n",
              "==============================================================================\n",
              "                 coef    std err          t      P>|t|      [0.025      0.975]\n",
              "------------------------------------------------------------------------------\n",
              "const       4524.5810    413.592     10.940      0.000    3708.732    5340.430\n",
              "permintaan     0.0565      0.067      0.842      0.401      -0.076       0.189\n",
              "==============================================================================\n",
              "Omnibus:                       21.270   Durbin-Watson:                   1.988\n",
              "Prob(Omnibus):                  0.000   Jarque-Bera (JB):                7.574\n",
              "Skew:                           0.194   Prob(JB):                       0.0227\n",
              "Kurtosis:                       2.105   Cond. No.                     1.51e+04\n",
              "==============================================================================\n",
              "\n",
              "Notes:\n",
              "[1] Standard Errors assume that the covariance matrix of the errors is correctly specified.\n",
              "[2] The condition number is large, 1.51e+04. This might indicate that there are\n",
              "strong multicollinearity or other numerical problems.\n",
              "\"\"\""
            ]
          },
          "execution_count": 425,
          "metadata": {},
          "output_type": "execute_result"
        }
      ],
      "source": [
        "# analisis statistika dari garis regresi\n",
        "lr.summary()"
      ]
    },
    {
      "cell_type": "code",
      "execution_count": null,
      "metadata": {
        "colab": {
          "base_uri": "https://localhost:8080/",
          "height": 265
        },
        "id": "vojRykoF9ue8",
        "outputId": "7c04db86-4b45-417d-ceb1-c83bcd41b153"
      },
      "outputs": [
        {
          "data": {
            "image/png": "[encoded data removed]",
            "text/plain": [
              "<Figure size 432x288 with 1 Axes>"
            ]
          },
          "metadata": {
            "needs_background": "light"
          },
          "output_type": "display_data"
        }
      ],
      "source": [
        "# visualisasi garis regresi\n",
        "# print(X.size, y.size)\n",
        "plt.scatter(X_train, y_train)\n",
        "plt.plot(X_train, 4777.255998 + 0.056531*X_train, 'r')\n",
        "plt.show()"
      ]
    },
    {
      "cell_type": "markdown",
      "metadata": {
        "id": "o_xCM4Wx9ue8"
      },
      "source": [
        "### Residual Analysis\n",
        "dipakai untuk mengetahui tingkat error dari variabel yang dipengaruhi (y)\n",
        "\n",
        "Error = Actual y value - y predicted value"
      ]
    },
    {
      "cell_type": "code",
      "execution_count": null,
      "metadata": {
        "id": "XNzcfdrA9ue9"
      },
      "outputs": [],
      "source": [
        "# prediksi y_value dari data x yang telah dilatih\n",
        "y_train_pred = lr.predict(X_train_sm)\n",
        "\n",
        "res = (y_train - y_train_pred)"
      ]
    },
    {
      "cell_type": "code",
      "execution_count": null,
      "metadata": {
        "colab": {
          "base_uri": "https://localhost:8080/",
          "height": 360
        },
        "id": "eih4m9Uv9ue9",
        "outputId": "ef0fe12f-ee03-4e16-9fc4-10d6f95619d4"
      },
      "outputs": [
        {
          "name": "stderr",
          "output_type": "stream",
          "text": [
            "/usr/local/lib/python3.7/dist-packages/seaborn/distributions.py:2619: FutureWarning: `distplot` is a deprecated function and will be removed in a future version. Please adapt your code to use either `displot` (a figure-level function with similar flexibility) or `histplot` (an axes-level function for histograms).\n",
            "  warnings.warn(msg, FutureWarning)\n"
          ]
        },
        {
          "data": {
            "image/png": "[encoded data removed]",
            "text/plain": [
              "<Figure size 432x288 with 1 Axes>"
            ]
          },
          "metadata": {
            "needs_background": "light"
          },
          "output_type": "display_data"
        }
      ],
      "source": [
        "# cek histogram apakah berdistribusi normal atau tidak\n",
        "fig = plt.figure()\n",
        "sns.distplot(res, bins = 15)\n",
        "plt.title('Error Terms', fontsize = 15)\n",
        "plt.xlabel('y_train - y_train_pred', fontsize = 15)\n",
        "plt.show()"
      ]
    },
    {
      "cell_type": "code",
      "execution_count": null,
      "metadata": {
        "colab": {
          "base_uri": "https://localhost:8080/",
          "height": 265
        },
        "id": "dnmD7AXQ9ue9",
        "outputId": "0b886e39-f1f7-4109-82db-501a85c4fa95"
      },
      "outputs": [
        {
          "data": {
            "image/png": "[encoded data removed]",
            "text/plain": [
              "<Figure size 432x288 with 1 Axes>"
            ]
          },
          "metadata": {
            "needs_background": "light"
          },
          "output_type": "display_data"
        }
      ],
      "source": [
        "plt.scatter(X_train,res)\n",
        "plt.show()"
      ]
    },
    {
      "cell_type": "code",
      "execution_count": null,
      "metadata": {
        "colab": {
          "base_uri": "https://localhost:8080/"
        },
        "id": "kFUKrMnC9ue9",
        "outputId": "708f764b-9c0c-4598-dfcc-8c6ca49baa6d"
      },
      "outputs": [
        {
          "name": "stderr",
          "output_type": "stream",
          "text": [
            "/usr/local/lib/python3.7/dist-packages/statsmodels/tsa/tsatools.py:142: FutureWarning: In a future version of pandas all arguments of concat except for the argument 'objs' will be keyword-only\n",
            "  x = pd.concat(x[::order], 1)\n"
          ]
        },
        {
          "data": {
            "text/plain": [
              "59     4897.685842\n",
              "139    4887.962505\n",
              "220    4677.214827\n",
              "134    4748.387394\n",
              "190    4931.943646\n",
              "dtype: float64"
            ]
          },
          "execution_count": 430,
          "metadata": {},
          "output_type": "execute_result"
        }
      ],
      "source": [
        "# prediksi pada data uji dan evaluasi model\n",
        "X_test_sm = sm.add_constant(X_test)\n",
        "\n",
        "# prediksi y value yang berkorelasi dengan X_test_sm\n",
        "y_test_pred = lr.predict(X_test_sm)\n",
        "\n",
        "# cetak 5 data terprediksi teratas\n",
        "y_test_pred.head()"
      ]
    },
    {
      "cell_type": "code",
      "execution_count": null,
      "metadata": {
        "colab": {
          "base_uri": "https://localhost:8080/"
        },
        "id": "-ySbetid9ue9",
        "outputId": "cfb13cd3-2646-4564-eb3d-64f6e011a401"
      },
      "outputs": [
        {
          "data": {
            "text/plain": [
              "0.00374611607992803"
            ]
          },
          "execution_count": 431,
          "metadata": {},
          "output_type": "execute_result"
        }
      ],
      "source": [
        "# hitung nilai r^2\n",
        "from sklearn.metrics import r2_score\n",
        "\n",
        "r_squared = r2_score(y_test, y_test_pred)\n",
        "r_squared"
      ]
    },
    {
      "cell_type": "markdown",
      "metadata": {
        "id": "6L2ZHKF59ue-"
      },
      "source": [
        "perlu diperhatikan bahwa r^2 dari data trainign adalah 0.004 sedangkan dari data testing adalah 0,003. Hal ini berarti model yang dibentuk cukup stabil (tidak berselisih jauh antara training dengan testing)"
      ]
    },
    {
      "cell_type": "code",
      "execution_count": null,
      "metadata": {
        "colab": {
          "base_uri": "https://localhost:8080/",
          "height": 265
        },
        "id": "Ex36DBF29ue-",
        "outputId": "d35eabd0-720c-4306-9964-fe9133ee39fc"
      },
      "outputs": [
        {
          "data": {
            "image/png": "[encoded data removed]",
            "text/plain": [
              "<Figure size 432x288 with 1 Axes>"
            ]
          },
          "metadata": {
            "needs_background": "light"
          },
          "output_type": "display_data"
        }
      ],
      "source": [
        "# visualisasi data\n",
        "plt.scatter(X_test, y_test)\n",
        "plt.plot(X_test, y_test_pred, 'r')\n",
        "plt.show()"
      ]
    },
    {
      "cell_type": "markdown",
      "metadata": {
        "id": "lEzWi2gJCJ9B"
      },
      "source": [
        "# Regresi Ganda"
      ]
    },
    {
      "cell_type": "code",
      "execution_count": null,
      "metadata": {
        "colab": {
          "base_uri": "https://localhost:8080/",
          "height": 424
        },
        "id": "REhgMUIPFr7I",
        "outputId": "1c90c1b6-64b1-4af4-8d80-2f306935745a"
      },
      "outputs": [
        {
          "data": {
            "text/html": [
              "\n",
              "  <div id=\"df-47c83ec0-0430-4a90-9541-1720b3c2d2be\">\n",
              "    <div class=\"colab-df-container\">\n",
              "      <div>\n",
              "<style scoped>\n",
              "    .dataframe tbody tr th:only-of-type {\n",
              "        vertical-align: middle;\n",
              "    }\n",
              "\n",
              "    .dataframe tbody tr th {\n",
              "        vertical-align: top;\n",
              "    }\n",
              "\n",
              "    .dataframe thead th {\n",
              "        text-align: right;\n",
              "    }\n",
              "</style>\n",
              "<table border=\"1\" class=\"dataframe\">\n",
              "  <thead>\n",
              "    <tr style=\"text-align: right;\">\n",
              "      <th></th>\n",
              "      <th>id</th>\n",
              "      <th>user_id</th>\n",
              "      <th>tanggal</th>\n",
              "      <th>permintaan</th>\n",
              "      <th>ketersediaan</th>\n",
              "      <th>harga</th>\n",
              "      <th>berita</th>\n",
              "      <th>created_at</th>\n",
              "      <th>updated_at</th>\n",
              "    </tr>\n",
              "  </thead>\n",
              "  <tbody>\n",
              "    <tr>\n",
              "      <th>0</th>\n",
              "      <td>1</td>\n",
              "      <td>2</td>\n",
              "      <td>212</td>\n",
              "      <td>5082</td>\n",
              "      <td>2621</td>\n",
              "      <td>26500</td>\n",
              "      <td>0</td>\n",
              "      <td>2022-07-13</td>\n",
              "      <td>2022-07-13</td>\n",
              "    </tr>\n",
              "    <tr>\n",
              "      <th>1</th>\n",
              "      <td>2</td>\n",
              "      <td>2</td>\n",
              "      <td>223</td>\n",
              "      <td>1804</td>\n",
              "      <td>8280</td>\n",
              "      <td>27150</td>\n",
              "      <td>2</td>\n",
              "      <td>2022-07-13</td>\n",
              "      <td>2022-07-13</td>\n",
              "    </tr>\n",
              "    <tr>\n",
              "      <th>2</th>\n",
              "      <td>3</td>\n",
              "      <td>2</td>\n",
              "      <td>234</td>\n",
              "      <td>8464</td>\n",
              "      <td>4266</td>\n",
              "      <td>27150</td>\n",
              "      <td>2</td>\n",
              "      <td>2022-07-13</td>\n",
              "      <td>2022-07-13</td>\n",
              "    </tr>\n",
              "    <tr>\n",
              "      <th>3</th>\n",
              "      <td>4</td>\n",
              "      <td>2</td>\n",
              "      <td>237</td>\n",
              "      <td>5827</td>\n",
              "      <td>5112</td>\n",
              "      <td>27650</td>\n",
              "      <td>1</td>\n",
              "      <td>2022-07-13</td>\n",
              "      <td>2022-07-13</td>\n",
              "    </tr>\n",
              "    <tr>\n",
              "      <th>4</th>\n",
              "      <td>5</td>\n",
              "      <td>2</td>\n",
              "      <td>238</td>\n",
              "      <td>5870</td>\n",
              "      <td>5499</td>\n",
              "      <td>26400</td>\n",
              "      <td>0</td>\n",
              "      <td>2022-07-13</td>\n",
              "      <td>2022-07-13</td>\n",
              "    </tr>\n",
              "    <tr>\n",
              "      <th>...</th>\n",
              "      <td>...</td>\n",
              "      <td>...</td>\n",
              "      <td>...</td>\n",
              "      <td>...</td>\n",
              "      <td>...</td>\n",
              "      <td>...</td>\n",
              "      <td>...</td>\n",
              "      <td>...</td>\n",
              "      <td>...</td>\n",
              "    </tr>\n",
              "    <tr>\n",
              "      <th>268</th>\n",
              "      <td>269</td>\n",
              "      <td>2</td>\n",
              "      <td>200</td>\n",
              "      <td>6529</td>\n",
              "      <td>8318</td>\n",
              "      <td>30250</td>\n",
              "      <td>0</td>\n",
              "      <td>2022-07-13</td>\n",
              "      <td>2022-07-13</td>\n",
              "    </tr>\n",
              "    <tr>\n",
              "      <th>269</th>\n",
              "      <td>270</td>\n",
              "      <td>2</td>\n",
              "      <td>201</td>\n",
              "      <td>3201</td>\n",
              "      <td>6134</td>\n",
              "      <td>31500</td>\n",
              "      <td>2</td>\n",
              "      <td>2022-07-13</td>\n",
              "      <td>2022-07-13</td>\n",
              "    </tr>\n",
              "    <tr>\n",
              "      <th>270</th>\n",
              "      <td>271</td>\n",
              "      <td>2</td>\n",
              "      <td>202</td>\n",
              "      <td>5730</td>\n",
              "      <td>9220</td>\n",
              "      <td>29750</td>\n",
              "      <td>0</td>\n",
              "      <td>2022-07-13</td>\n",
              "      <td>2022-07-13</td>\n",
              "    </tr>\n",
              "    <tr>\n",
              "      <th>271</th>\n",
              "      <td>272</td>\n",
              "      <td>2</td>\n",
              "      <td>203</td>\n",
              "      <td>7280</td>\n",
              "      <td>8500</td>\n",
              "      <td>29200</td>\n",
              "      <td>2</td>\n",
              "      <td>2022-07-13</td>\n",
              "      <td>2022-07-13</td>\n",
              "    </tr>\n",
              "    <tr>\n",
              "      <th>272</th>\n",
              "      <td>273</td>\n",
              "      <td>2</td>\n",
              "      <td>205</td>\n",
              "      <td>7629</td>\n",
              "      <td>7785</td>\n",
              "      <td>28900</td>\n",
              "      <td>2</td>\n",
              "      <td>2022-07-13</td>\n",
              "      <td>2022-07-13</td>\n",
              "    </tr>\n",
              "  </tbody>\n",
              "</table>\n",
              "<p>273 rows × 9 columns</p>\n",
              "</div>\n",
              "      <button class=\"colab-df-convert\" onclick=\"convertToInteractive('df-47c83ec0-0430-4a90-9541-1720b3c2d2be')\"\n",
              "              title=\"Convert this dataframe to an interactive table.\"\n",
              "              style=\"display:none;\">\n",
              "        \n",
              "  <svg xmlns=\"http://www.w3.org/2000/svg\" height=\"24px\"viewBox=\"0 0 24 24\"\n",
              "       width=\"24px\">\n",
              "    <path d=\"M0 0h24v24H0V0z\" fill=\"none\"/>\n",
              "    <path d=\"M18.56 5.44l.94 2.06.94-2.06 2.06-.94-2.06-.94-.94-2.06-.94 2.06-2.06.94zm-11 1L8.5 8.5l.94-2.06 2.06-.94-2.06-.94L8.5 2.5l-.94 2.06-2.06.94zm10 10l.94 2.06.94-2.06 2.06-.94-2.06-.94-.94-2.06-.94 2.06-2.06.94z\"/><path d=\"M17.41 7.96l-1.37-1.37c-.4-.4-.92-.59-1.43-.59-.52 0-1.04.2-1.43.59L10.3 9.45l-7.72 7.72c-.78.78-.78 2.05 0 2.83L4 21.41c.39.39.9.59 1.41.59.51 0 1.02-.2 1.41-.59l7.78-7.78 2.81-2.81c.8-.78.8-2.07 0-2.86zM5.41 20L4 18.59l7.72-7.72 1.47 1.35L5.41 20z\"/>\n",
              "  </svg>\n",
              "      </button>\n",
              "      \n",
              "  <style>\n",
              "    .colab-df-container {\n",
              "      display:flex;\n",
              "      flex-wrap:wrap;\n",
              "      gap: 12px;\n",
              "    }\n",
              "\n",
              "    .colab-df-convert {\n",
              "      background-color: #E8F0FE;\n",
              "      border: none;\n",
              "      border-radius: 50%;\n",
              "      cursor: pointer;\n",
              "      display: none;\n",
              "      fill: #1967D2;\n",
              "      height: 32px;\n",
              "      padding: 0 0 0 0;\n",
              "      width: 32px;\n",
              "    }\n",
              "\n",
              "    .colab-df-convert:hover {\n",
              "      background-color: #E2EBFA;\n",
              "      box-shadow: 0px 1px 2px rgba(60, 64, 67, 0.3), 0px 1px 3px 1px rgba(60, 64, 67, 0.15);\n",
              "      fill: #174EA6;\n",
              "    }\n",
              "\n",
              "    [theme=dark] .colab-df-convert {\n",
              "      background-color: #3B4455;\n",
              "      fill: #D2E3FC;\n",
              "    }\n",
              "\n",
              "    [theme=dark] .colab-df-convert:hover {\n",
              "      background-color: #434B5C;\n",
              "      box-shadow: 0px 1px 3px 1px rgba(0, 0, 0, 0.15);\n",
              "      filter: drop-shadow(0px 1px 2px rgba(0, 0, 0, 0.3));\n",
              "      fill: #FFFFFF;\n",
              "    }\n",
              "  </style>\n",
              "\n",
              "      <script>\n",
              "        const buttonEl =\n",
              "          document.querySelector('#df-47c83ec0-0430-4a90-9541-1720b3c2d2be button.colab-df-convert');\n",
              "        buttonEl.style.display =\n",
              "          google.colab.kernel.accessAllowed ? 'block' : 'none';\n",
              "\n",
              "        async function convertToInteractive(key) {\n",
              "          const element = document.querySelector('#df-47c83ec0-0430-4a90-9541-1720b3c2d2be');\n",
              "          const dataTable =\n",
              "            await google.colab.kernel.invokeFunction('convertToInteractive',\n",
              "                                                     [key], {});\n",
              "          if (!dataTable) return;\n",
              "\n",
              "          const docLinkHtml = 'Like what you see? Visit the ' +\n",
              "            '<a target=\"_blank\" href=https://colab.research.google.com/notebooks/data_table.ipynb>data table notebook</a>'\n",
              "            + ' to learn more about interactive tables.';\n",
              "          element.innerHTML = '';\n",
              "          dataTable['output_type'] = 'display_data';\n",
              "          await google.colab.output.renderOutput(dataTable, element);\n",
              "          const docLink = document.createElement('div');\n",
              "          docLink.innerHTML = docLinkHtml;\n",
              "          element.appendChild(docLink);\n",
              "        }\n",
              "      </script>\n",
              "    </div>\n",
              "  </div>\n",
              "  "
            ],
            "text/plain": [
              "      id  user_id  tanggal  permintaan  ketersediaan  harga  berita  \\\n",
              "0      1        2      212        5082          2621  26500       0   \n",
              "1      2        2      223        1804          8280  27150       2   \n",
              "2      3        2      234        8464          4266  27150       2   \n",
              "3      4        2      237        5827          5112  27650       1   \n",
              "4      5        2      238        5870          5499  26400       0   \n",
              "..   ...      ...      ...         ...           ...    ...     ...   \n",
              "268  269        2      200        6529          8318  30250       0   \n",
              "269  270        2      201        3201          6134  31500       2   \n",
              "270  271        2      202        5730          9220  29750       0   \n",
              "271  272        2      203        7280          8500  29200       2   \n",
              "272  273        2      205        7629          7785  28900       2   \n",
              "\n",
              "     created_at  updated_at  \n",
              "0    2022-07-13  2022-07-13  \n",
              "1    2022-07-13  2022-07-13  \n",
              "2    2022-07-13  2022-07-13  \n",
              "3    2022-07-13  2022-07-13  \n",
              "4    2022-07-13  2022-07-13  \n",
              "..          ...         ...  \n",
              "268  2022-07-13  2022-07-13  \n",
              "269  2022-07-13  2022-07-13  \n",
              "270  2022-07-13  2022-07-13  \n",
              "271  2022-07-13  2022-07-13  \n",
              "272  2022-07-13  2022-07-13  \n",
              "\n",
              "[273 rows x 9 columns]"
            ]
          },
          "execution_count": 433,
          "metadata": {},
          "output_type": "execute_result"
        }
      ],
      "source": [
        "data"
      ]
    },
    {
      "cell_type": "code",
      "execution_count": null,
      "metadata": {
        "id": "y4T4vV24_KpG"
      },
      "outputs": [],
      "source": [
        "xbaru = data[['permintaan', 'harga']]\n",
        "ybaru = data['ketersediaan']"
      ]
    },
    {
      "cell_type": "code",
      "execution_count": null,
      "metadata": {
        "colab": {
          "base_uri": "https://localhost:8080/"
        },
        "id": "XNUCB_Mg_b6R",
        "outputId": "b8a88e60-1bf3-4765-ac49-d130b4931fdd"
      },
      "outputs": [
        {
          "name": "stderr",
          "output_type": "stream",
          "text": [
            "/usr/local/lib/python3.7/dist-packages/statsmodels/tsa/tsatools.py:142: FutureWarning: In a future version of pandas all arguments of concat except for the argument 'objs' will be keyword-only\n",
            "  x = pd.concat(x[::order], 1)\n"
          ]
        }
      ],
      "source": [
        "xConst = sm.add_constant(xbaru)"
      ]
    },
    {
      "cell_type": "code",
      "execution_count": null,
      "metadata": {
        "colab": {
          "base_uri": "https://localhost:8080/"
        },
        "id": "yHDFnWyVACqH",
        "outputId": "ea97ffaf-0013-4fec-b6d9-c13a2b8ee91e"
      },
      "outputs": [
        {
          "name": "stdout",
          "output_type": "stream",
          "text": [
            "                            OLS Regression Results                            \n",
            "==============================================================================\n",
            "Dep. Variable:           ketersediaan   R-squared:                       0.047\n",
            "Model:                            OLS   Adj. R-squared:                  0.040\n",
            "Method:                 Least Squares   F-statistic:                     6.710\n",
            "Date:                Mon, 12 Sep 2022   Prob (F-statistic):            0.00143\n",
            "Time:                        11:58:13   Log-Likelihood:                -2505.8\n",
            "No. Observations:                 273   AIC:                             5018.\n",
            "Df Residuals:                     270   BIC:                             5028.\n",
            "Df Model:                           2                                         \n",
            "Covariance Type:            nonrobust                                         \n",
            "==============================================================================\n",
            "                 coef    std err          t      P>|t|      [0.025      0.975]\n",
            "------------------------------------------------------------------------------\n",
            "const       5649.7162    473.148     11.941      0.000    4718.188    6581.245\n",
            "permintaan     0.0774      0.058      1.343      0.180      -0.036       0.191\n",
            "harga         -0.0382      0.011     -3.513      0.001      -0.060      -0.017\n",
            "==============================================================================\n",
            "Omnibus:                       37.649   Durbin-Watson:                   1.841\n",
            "Prob(Omnibus):                  0.000   Jarque-Bera (JB):               12.036\n",
            "Skew:                           0.223   Prob(JB):                      0.00243\n",
            "Kurtosis:                       2.073   Cond. No.                     1.17e+05\n",
            "==============================================================================\n",
            "\n",
            "Notes:\n",
            "[1] Standard Errors assume that the covariance matrix of the errors is correctly specified.\n",
            "[2] The condition number is large, 1.17e+05. This might indicate that there are\n",
            "strong multicollinearity or other numerical problems.\n"
          ]
        }
      ],
      "source": [
        "model = sm.OLS(ybaru, xConst).fit()\n",
        "predictions = model.predict(xConst)\n",
        "\n",
        "print(model.summary())"
      ]
    },
    {
      "cell_type": "code",
      "execution_count": null,
      "metadata": {
        "id": "KXkZSsKTWLKd"
      },
      "outputs": [],
      "source": [
        "X_trainx, X_testx, y_trainy, y_testy = train_test_split(xbaru, ybaru, \n",
        "                                                    test_size = 0.3, random_state = 100)"
      ]
    },
    {
      "cell_type": "code",
      "execution_count": null,
      "metadata": {
        "colab": {
          "base_uri": "https://localhost:8080/"
        },
        "id": "e-lteulsWXcm",
        "outputId": "84d8de90-7305-4d1f-dac9-06746a53ba98"
      },
      "outputs": [
        {
          "data": {
            "text/plain": [
              "65     3678\n",
              "98     4066\n",
              "104    5212\n",
              "48     7070\n",
              "159    3724\n",
              "       ... \n",
              "226    5935\n",
              "66     4259\n",
              "53     6746\n",
              "79     4438\n",
              "8      3336\n",
              "Name: ketersediaan, Length: 191, dtype: int64"
            ]
          },
          "execution_count": 438,
          "metadata": {},
          "output_type": "execute_result"
        }
      ],
      "source": [
        "X_trainx\n",
        "y_trainy"
      ]
    },
    {
      "cell_type": "code",
      "execution_count": null,
      "metadata": {
        "colab": {
          "base_uri": "https://localhost:8080/"
        },
        "id": "t8oMUTtYbdzy",
        "outputId": "dab864dd-3de0-43c0-d783-0d35e5540adf"
      },
      "outputs": [
        {
          "data": {
            "text/plain": [
              "const         5649.716217\n",
              "permintaan       0.077408\n",
              "harga           -0.038194\n",
              "dtype: float64"
            ]
          },
          "execution_count": 439,
          "metadata": {},
          "output_type": "execute_result"
        }
      ],
      "source": [
        "lr = sm.OLS(ybaru, xConst).fit()\n",
        "lr.params"
      ]
    },
    {
      "cell_type": "code",
      "execution_count": null,
      "metadata": {
        "colab": {
          "base_uri": "https://localhost:8080/",
          "height": 508
        },
        "id": "fvAN5dFPb6Tb",
        "outputId": "1ad99505-3f38-436d-e996-8bc381f575ec"
      },
      "outputs": [
        {
          "data": {
            "text/html": [
              "<table class=\"simpletable\">\n",
              "<caption>OLS Regression Results</caption>\n",
              "<tr>\n",
              "  <th>Dep. Variable:</th>      <td>ketersediaan</td>   <th>  R-squared:         </th> <td>   0.047</td>\n",
              "</tr>\n",
              "<tr>\n",
              "  <th>Model:</th>                   <td>OLS</td>       <th>  Adj. R-squared:    </th> <td>   0.040</td>\n",
              "</tr>\n",
              "<tr>\n",
              "  <th>Method:</th>             <td>Least Squares</td>  <th>  F-statistic:       </th> <td>   6.710</td>\n",
              "</tr>\n",
              "<tr>\n",
              "  <th>Date:</th>             <td>Mon, 12 Sep 2022</td> <th>  Prob (F-statistic):</th>  <td>0.00143</td>\n",
              "</tr>\n",
              "<tr>\n",
              "  <th>Time:</th>                 <td>11:58:27</td>     <th>  Log-Likelihood:    </th> <td> -2505.8</td>\n",
              "</tr>\n",
              "<tr>\n",
              "  <th>No. Observations:</th>      <td>   273</td>      <th>  AIC:               </th> <td>   5018.</td>\n",
              "</tr>\n",
              "<tr>\n",
              "  <th>Df Residuals:</th>          <td>   270</td>      <th>  BIC:               </th> <td>   5028.</td>\n",
              "</tr>\n",
              "<tr>\n",
              "  <th>Df Model:</th>              <td>     2</td>      <th>                     </th>     <td> </td>   \n",
              "</tr>\n",
              "<tr>\n",
              "  <th>Covariance Type:</th>      <td>nonrobust</td>    <th>                     </th>     <td> </td>   \n",
              "</tr>\n",
              "</table>\n",
              "<table class=\"simpletable\">\n",
              "<tr>\n",
              "       <td></td>         <th>coef</th>     <th>std err</th>      <th>t</th>      <th>P>|t|</th>  <th>[0.025</th>    <th>0.975]</th>  \n",
              "</tr>\n",
              "<tr>\n",
              "  <th>const</th>      <td> 5649.7162</td> <td>  473.148</td> <td>   11.941</td> <td> 0.000</td> <td> 4718.188</td> <td> 6581.245</td>\n",
              "</tr>\n",
              "<tr>\n",
              "  <th>permintaan</th> <td>    0.0774</td> <td>    0.058</td> <td>    1.343</td> <td> 0.180</td> <td>   -0.036</td> <td>    0.191</td>\n",
              "</tr>\n",
              "<tr>\n",
              "  <th>harga</th>      <td>   -0.0382</td> <td>    0.011</td> <td>   -3.513</td> <td> 0.001</td> <td>   -0.060</td> <td>   -0.017</td>\n",
              "</tr>\n",
              "</table>\n",
              "<table class=\"simpletable\">\n",
              "<tr>\n",
              "  <th>Omnibus:</th>       <td>37.649</td> <th>  Durbin-Watson:     </th> <td>   1.841</td>\n",
              "</tr>\n",
              "<tr>\n",
              "  <th>Prob(Omnibus):</th> <td> 0.000</td> <th>  Jarque-Bera (JB):  </th> <td>  12.036</td>\n",
              "</tr>\n",
              "<tr>\n",
              "  <th>Skew:</th>          <td> 0.223</td> <th>  Prob(JB):          </th> <td> 0.00243</td>\n",
              "</tr>\n",
              "<tr>\n",
              "  <th>Kurtosis:</th>      <td> 2.073</td> <th>  Cond. No.          </th> <td>1.17e+05</td>\n",
              "</tr>\n",
              "</table><br/><br/>Notes:<br/>[1] Standard Errors assume that the covariance matrix of the errors is correctly specified.<br/>[2] The condition number is large, 1.17e+05. This might indicate that there are<br/>strong multicollinearity or other numerical problems."
            ],
            "text/plain": [
              "<class 'statsmodels.iolib.summary.Summary'>\n",
              "\"\"\"\n",
              "                            OLS Regression Results                            \n",
              "==============================================================================\n",
              "Dep. Variable:           ketersediaan   R-squared:                       0.047\n",
              "Model:                            OLS   Adj. R-squared:                  0.040\n",
              "Method:                 Least Squares   F-statistic:                     6.710\n",
              "Date:                Mon, 12 Sep 2022   Prob (F-statistic):            0.00143\n",
              "Time:                        11:58:27   Log-Likelihood:                -2505.8\n",
              "No. Observations:                 273   AIC:                             5018.\n",
              "Df Residuals:                     270   BIC:                             5028.\n",
              "Df Model:                           2                                         \n",
              "Covariance Type:            nonrobust                                         \n",
              "==============================================================================\n",
              "                 coef    std err          t      P>|t|      [0.025      0.975]\n",
              "------------------------------------------------------------------------------\n",
              "const       5649.7162    473.148     11.941      0.000    4718.188    6581.245\n",
              "permintaan     0.0774      0.058      1.343      0.180      -0.036       0.191\n",
              "harga         -0.0382      0.011     -3.513      0.001      -0.060      -0.017\n",
              "==============================================================================\n",
              "Omnibus:                       37.649   Durbin-Watson:                   1.841\n",
              "Prob(Omnibus):                  0.000   Jarque-Bera (JB):               12.036\n",
              "Skew:                           0.223   Prob(JB):                      0.00243\n",
              "Kurtosis:                       2.073   Cond. No.                     1.17e+05\n",
              "==============================================================================\n",
              "\n",
              "Notes:\n",
              "[1] Standard Errors assume that the covariance matrix of the errors is correctly specified.\n",
              "[2] The condition number is large, 1.17e+05. This might indicate that there are\n",
              "strong multicollinearity or other numerical problems.\n",
              "\"\"\""
            ]
          },
          "execution_count": 440,
          "metadata": {},
          "output_type": "execute_result"
        }
      ],
      "source": [
        "lr.summary()"
      ]
    },
    {
      "cell_type": "code",
      "execution_count": null,
      "metadata": {
        "colab": {
          "base_uri": "https://localhost:8080/",
          "height": 265
        },
        "id": "IDNKh014cby_",
        "outputId": "97df3d35-cc43-41ae-a06c-de516a4a57ca"
      },
      "outputs": [
        {
          "data": {
            "image/png": "[encoded data removed]",
            "text/plain": [
              "<Figure size 432x288 with 1 Axes>"
            ]
          },
          "metadata": {
            "needs_background": "light"
          },
          "output_type": "display_data"
        }
      ],
      "source": [
        "plt.scatter(X_train, y_trainy)\n",
        "plt.plot(X_trainx, 5491.773924 + (0.082721 + (-0.034897))*X_trainx, 'r')\n",
        "plt.show()"
      ]
    },
    {
      "cell_type": "code",
      "execution_count": null,
      "metadata": {
        "id": "IHIUnmeJdaoF"
      },
      "outputs": [],
      "source": [
        "y_train_pred = lr.predict(X_train_sm)\n",
        "\n",
        "res = (y_train - y_train_pred)"
      ]
    },
    {
      "cell_type": "code",
      "execution_count": null,
      "metadata": {
        "colab": {
          "base_uri": "https://localhost:8080/",
          "height": 360
        },
        "id": "lAjMfb4Adfrj",
        "outputId": "4f548c41-ec9d-4b1c-a6b1-99a666807a49"
      },
      "outputs": [
        {
          "name": "stderr",
          "output_type": "stream",
          "text": [
            "/usr/local/lib/python3.7/dist-packages/seaborn/distributions.py:2619: FutureWarning: `distplot` is a deprecated function and will be removed in a future version. Please adapt your code to use either `displot` (a figure-level function with similar flexibility) or `histplot` (an axes-level function for histograms).\n",
            "  warnings.warn(msg, FutureWarning)\n"
          ]
        },
        {
          "data": {
            "image/png": "[encoded data removed]",
            "text/plain": [
              "<Figure size 432x288 with 1 Axes>"
            ]
          },
          "metadata": {
            "needs_background": "light"
          },
          "output_type": "display_data"
        }
      ],
      "source": [
        "# cek histogram apakah berdistribusi normal atau tidak\n",
        "fig = plt.figure()\n",
        "sns.distplot(res, bins = 15)\n",
        "plt.title('Error Terms', fontsize = 15)\n",
        "plt.xlabel('y_train - y_train_pred', fontsize = 15)\n",
        "plt.show()"
      ]
    },
    {
      "cell_type": "code",
      "execution_count": null,
      "metadata": {
        "colab": {
          "base_uri": "https://localhost:8080/",
          "height": 265
        },
        "id": "o_279en1dmY3",
        "outputId": "54abe92d-18e9-4988-d013-cf116d04078a"
      },
      "outputs": [
        {
          "data": {
            "image/png": "[encoded data removed]",
            "text/plain": [
              "<Figure size 432x288 with 1 Axes>"
            ]
          },
          "metadata": {
            "needs_background": "light"
          },
          "output_type": "display_data"
        }
      ],
      "source": [
        "plt.scatter(X_train, res)\n",
        "plt.show()"
      ]
    },
    {
      "cell_type": "code",
      "execution_count": null,
      "metadata": {
        "colab": {
          "base_uri": "https://localhost:8080/"
        },
        "id": "YuYKjdfhdoxj",
        "outputId": "a5c78bad-2a7f-4c6a-bd6d-0ddfd6a49add"
      },
      "outputs": [
        {
          "name": "stderr",
          "output_type": "stream",
          "text": [
            "/usr/local/lib/python3.7/dist-packages/statsmodels/tsa/tsatools.py:142: FutureWarning: In a future version of pandas all arguments of concat except for the argument 'objs' will be keyword-only\n",
            "  x = pd.concat(x[::order], 1)\n"
          ]
        },
        {
          "data": {
            "text/plain": [
              "59     5304.895317\n",
              "139    3800.564180\n",
              "220    4109.857475\n",
              "134    3542.235490\n",
              "190    4910.087166\n",
              "dtype: float64"
            ]
          },
          "execution_count": 356,
          "metadata": {},
          "output_type": "execute_result"
        }
      ],
      "source": [
        "# prediksi pada data uji dan evaluasi model\n",
        "X_test_sm = sm.add_constant(X_test)\n",
        "\n",
        "# prediksi y value yang berkorelasi dengan X_test_sm\n",
        "y_test_pred = lr.predict(X_test_sm)\n",
        "\n",
        "# cetak 5 data terprediksi teratas\n",
        "y_test_pred.head()"
      ]
    },
    {
      "cell_type": "code",
      "execution_count": null,
      "metadata": {
        "colab": {
          "base_uri": "https://localhost:8080/"
        },
        "id": "M4UCYbrcd0Ku",
        "outputId": "c4b0ad7f-c07d-49c7-d5c8-b2288919839e"
      },
      "outputs": [
        {
          "data": {
            "text/plain": [
              "0.053688989797562536"
            ]
          },
          "execution_count": 357,
          "metadata": {},
          "output_type": "execute_result"
        }
      ],
      "source": [
        "# hitung nilai r^2\n",
        "from sklearn.metrics import r2_score\n",
        "\n",
        "r_squared = r2_score(y_test, y_test_pred)\n",
        "r_squared"
      ]
    },
    {
      "cell_type": "code",
      "execution_count": null,
      "metadata": {
        "colab": {
          "base_uri": "https://localhost:8080/",
          "height": 265
        },
        "id": "Si6VyLA6d5Ld",
        "outputId": "4278bc09-b762-4340-a125-9f874bfc0d9c"
      },
      "outputs": [
        {
          "data": {
            "image/png": "[encoded data removed]",
            "text/plain": [
              "<Figure size 432x288 with 1 Axes>"
            ]
          },
          "metadata": {
            "needs_background": "light"
          },
          "output_type": "display_data"
        }
      ],
      "source": [
        "# visualisasi data\n",
        "plt.scatter(X_test, y_test)\n",
        "plt.plot(X_test, y_test_pred, 'r')\n",
        "plt.show()"
      ]
    }
  ],
  "metadata": {
    "colab": {
      "provenance": []
    },
    "kernelspec": {
      "display_name": "Python 3.7.6 ('base')",
      "language": "python",
      "name": "python3"
    },
    "language_info": {
      "codemirror_mode": {
        "name": "ipython",
        "version": 3
      },
      "file_extension": ".py",
      "mimetype": "text/x-python",
      "name": "python",
      "nbconvert_exporter": "python",
      "pygments_lexer": "ipython3",
      "version": "3.7.6"
    },
    "orig_nbformat": 4,
    "vscode": {
      "interpreter": {
        "hash": "7e96b86f03d7d42bb76aac26192874394f42efe9d96b48d22368bab7dabddb55"
      }
    }
  },
  "nbformat": 4,
  "nbformat_minor": 0
}
